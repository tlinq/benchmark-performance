{
 "cells": [
  {
   "cell_type": "code",
   "execution_count": 1,
   "metadata": {},
   "outputs": [],
   "source": [
    "import pandas as pd\n"
   ]
  },
  {
   "source": [
    "file = r\"C:\\Users\\tobias\\programming\\react\\benchmark-performance\\src\\Data\\Data visualisation - homework - input - Sheet1.csv\"\n",
    "\n",
    "df = pd.read_csv(file)"
   ],
   "cell_type": "code",
   "outputs": [],
   "metadata": {},
   "execution_count": 13
  },
  {
   "source": [
    "def imp_perf(old, new, unit):\n",
    "    #checks if its time/operation\n",
    "    if \"s\" in unit.split(\"/\")[0]:\n",
    "        return old/new\n",
    "    else:\n",
    "        return new/old\n",
    "    \n",
    "\n",
    "df['Category'] = [x.split(\".\")[0] for x in df['Benchmark']]\n",
    "df['SubCategory'] = [x.split(\".\")[1].split(\"_\")[0] for x in df['Benchmark']]\n",
    "\n",
    "df['Relative Performance'] = [imp_perf(old, new, unit) for old, new, unit in zip(df['Old'], df['New'], df['Unit'])]\n",
    "\n",
    "df.head()"
   ],
   "cell_type": "code",
   "outputs": [
    {
     "output_type": "execute_result",
     "data": {
      "text/plain": "      Suite                                          Benchmark      Old  \\\n0  Core API  CreateManyPropertyKeysViaCypher.setPropertiesF...  5952.27   \n1  Core API  CreateDeleteNodeProperties.createDeletePropert...   590.15   \n2  Core API  CreateDeleteNodeProperties.createDeletePropert...   590.15   \n3  Core API  CreateManyPropertyKeysViaCypher.setPropertiesF...   141.58   \n4  Core API  CreateDeleteNodeProperties.createDeletePropert...     2.08   \n\n       New   Unit                         Category           SubCategory  \\\n0    27.39  ms/op  CreateManyPropertyKeysViaCypher  setPropertiesFromMap   \n1  9417.63   op/s       CreateDeleteNodeProperties  createDeleteProperty   \n2  9417.63   op/s       CreateDeleteNodeProperties  createDeleteProperty   \n3    10.89  ms/op  CreateManyPropertyKeysViaCypher  setPropertiesFromMap   \n4    21.19  op/ms       CreateDeleteNodeProperties  createDeleteProperty   \n\n   Relative Performance  \n0            217.315444  \n1             15.958028  \n2             15.958028  \n3             13.000918  \n4             10.187500  ",
      "text/html": "<div>\n<style scoped>\n    .dataframe tbody tr th:only-of-type {\n        vertical-align: middle;\n    }\n\n    .dataframe tbody tr th {\n        vertical-align: top;\n    }\n\n    .dataframe thead th {\n        text-align: right;\n    }\n</style>\n<table border=\"1\" class=\"dataframe\">\n  <thead>\n    <tr style=\"text-align: right;\">\n      <th></th>\n      <th>Suite</th>\n      <th>Benchmark</th>\n      <th>Old</th>\n      <th>New</th>\n      <th>Unit</th>\n      <th>Category</th>\n      <th>SubCategory</th>\n      <th>Relative Performance</th>\n    </tr>\n  </thead>\n  <tbody>\n    <tr>\n      <th>0</th>\n      <td>Core API</td>\n      <td>CreateManyPropertyKeysViaCypher.setPropertiesF...</td>\n      <td>5952.27</td>\n      <td>27.39</td>\n      <td>ms/op</td>\n      <td>CreateManyPropertyKeysViaCypher</td>\n      <td>setPropertiesFromMap</td>\n      <td>217.315444</td>\n    </tr>\n    <tr>\n      <th>1</th>\n      <td>Core API</td>\n      <td>CreateDeleteNodeProperties.createDeletePropert...</td>\n      <td>590.15</td>\n      <td>9417.63</td>\n      <td>op/s</td>\n      <td>CreateDeleteNodeProperties</td>\n      <td>createDeleteProperty</td>\n      <td>15.958028</td>\n    </tr>\n    <tr>\n      <th>2</th>\n      <td>Core API</td>\n      <td>CreateDeleteNodeProperties.createDeletePropert...</td>\n      <td>590.15</td>\n      <td>9417.63</td>\n      <td>op/s</td>\n      <td>CreateDeleteNodeProperties</td>\n      <td>createDeleteProperty</td>\n      <td>15.958028</td>\n    </tr>\n    <tr>\n      <th>3</th>\n      <td>Core API</td>\n      <td>CreateManyPropertyKeysViaCypher.setPropertiesF...</td>\n      <td>141.58</td>\n      <td>10.89</td>\n      <td>ms/op</td>\n      <td>CreateManyPropertyKeysViaCypher</td>\n      <td>setPropertiesFromMap</td>\n      <td>13.000918</td>\n    </tr>\n    <tr>\n      <th>4</th>\n      <td>Core API</td>\n      <td>CreateDeleteNodeProperties.createDeletePropert...</td>\n      <td>2.08</td>\n      <td>21.19</td>\n      <td>op/ms</td>\n      <td>CreateDeleteNodeProperties</td>\n      <td>createDeleteProperty</td>\n      <td>10.187500</td>\n    </tr>\n  </tbody>\n</table>\n</div>"
     },
     "metadata": {},
     "execution_count": 14
    }
   ],
   "metadata": {},
   "execution_count": 14
  },
  {
   "cell_type": "code",
   "execution_count": 4,
   "metadata": {},
   "outputs": [],
   "source": [
    "df.to_json(\"./Data visualisation - homework - input.json\", orient='table')"
   ]
  },
  {
   "cell_type": "code",
   "execution_count": null,
   "metadata": {},
   "outputs": [],
   "source": []
  }
 ],
 "metadata": {
  "kernelspec": {
   "display_name": "Python 3",
   "language": "python",
   "name": "python3"
  },
  "language_info": {
   "codemirror_mode": {
    "name": "ipython",
    "version": 3
   },
   "file_extension": ".py",
   "mimetype": "text/x-python",
   "name": "python",
   "nbconvert_exporter": "python",
   "pygments_lexer": "ipython3",
   "version": "3.7.3"
  }
 },
 "nbformat": 4,
 "nbformat_minor": 2
}